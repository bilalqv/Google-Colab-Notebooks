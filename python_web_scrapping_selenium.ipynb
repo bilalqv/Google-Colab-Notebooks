{
  "nbformat": 4,
  "nbformat_minor": 0,
  "metadata": {
    "colab": {
      "name": "python_web_scrapping_selenium.ipynb",
      "provenance": [],
      "collapsed_sections": [],
      "authorship_tag": "ABX9TyMWOCgDfoX/6B5Hw7oOa6xS",
      "include_colab_link": true
    },
    "kernelspec": {
      "name": "python3",
      "display_name": "Python 3"
    },
    "language_info": {
      "name": "python"
    }
  },
  "cells": [
    {
      "cell_type": "markdown",
      "metadata": {
        "id": "view-in-github",
        "colab_type": "text"
      },
      "source": [
        "<a href=\"https://colab.research.google.com/github/crediblebilal/ML-Google-Colab-Notebooks/blob/main/python_web_scrapping_selenium.ipynb\" target=\"_parent\"><img src=\"https://colab.research.google.com/assets/colab-badge.svg\" alt=\"Open In Colab\"/></a>"
      ]
    },
    {
      "cell_type": "markdown",
      "metadata": {
        "id": "m1Yx95qv0Gy3"
      },
      "source": [
        "This Notebook Can be RUN in Google Colab Notebook."
      ]
    },
    {
      "cell_type": "markdown",
      "metadata": {
        "id": "VlaIpcmD0S5U"
      },
      "source": [
        "# Python Web Scrapping "
      ]
    },
    {
      "cell_type": "markdown",
      "metadata": {
        "id": "QtM3m4910eXU"
      },
      "source": [
        "Website used for Scrapping - https://general.bajajallianz.com/BagicNxt/hm/hmSearchExternalHosp.do"
      ]
    },
    {
      "cell_type": "code",
      "metadata": {
        "colab": {
          "base_uri": "https://localhost:8080/"
        },
        "id": "s5ebXMeLcYnW",
        "outputId": "dd9807d3-9442-4c8c-ce16-5caf84b0d6cb"
      },
      "source": [
        "!apt update\n",
        "!apt install chromium-chromedriver\n",
        "!pip install selenium\n",
        "from selenium import webdriver\n",
        "options = webdriver.ChromeOptions()\n",
        "options.add_argument('--headless')\n",
        "options.add_argument('--no-sandbox')\n",
        "options.add_argument('--disable-dev-shm-usage')\n",
        "driver = webdriver.Chrome(options=options)"
      ],
      "execution_count": 12,
      "outputs": [
        {
          "output_type": "stream",
          "name": "stdout",
          "text": [
            "\u001b[33m\r0% [Working]\u001b[0m\r            \rIgn:1 https://developer.download.nvidia.com/compute/cuda/repos/ubuntu1804/x86_64  InRelease\n",
            "\u001b[33m\r0% [Connecting to archive.ubuntu.com] [Connecting to security.ubuntu.com] [Wait\u001b[0m\r                                                                               \rHit:2 https://cloud.r-project.org/bin/linux/ubuntu bionic-cran40/ InRelease\n",
            "\u001b[33m\r0% [Connecting to archive.ubuntu.com] [Connecting to security.ubuntu.com] [Conn\u001b[0m\r                                                                               \rIgn:3 https://developer.download.nvidia.com/compute/machine-learning/repos/ubuntu1804/x86_64  InRelease\n",
            "\u001b[33m\r0% [Connecting to archive.ubuntu.com (91.189.88.152)] [Connecting to security.u\u001b[0m\u001b[33m\r0% [2 InRelease gpgv 3,626 B] [Connecting to archive.ubuntu.com (91.189.88.152)\u001b[0m\r                                                                               \rHit:4 https://developer.download.nvidia.com/compute/cuda/repos/ubuntu1804/x86_64  Release\n",
            "Hit:5 https://developer.download.nvidia.com/compute/machine-learning/repos/ubuntu1804/x86_64  Release\n",
            "Hit:6 http://security.ubuntu.com/ubuntu bionic-security InRelease\n",
            "Hit:7 http://ppa.launchpad.net/c2d4u.team/c2d4u4.0+/ubuntu bionic InRelease\n",
            "Hit:8 http://archive.ubuntu.com/ubuntu bionic InRelease\n",
            "Hit:10 http://archive.ubuntu.com/ubuntu bionic-updates InRelease\n",
            "Hit:11 http://ppa.launchpad.net/cran/libgit2/ubuntu bionic InRelease\n",
            "Hit:12 http://archive.ubuntu.com/ubuntu bionic-backports InRelease\n",
            "Hit:14 http://ppa.launchpad.net/deadsnakes/ppa/ubuntu bionic InRelease\n",
            "Hit:15 http://ppa.launchpad.net/graphics-drivers/ppa/ubuntu bionic InRelease\n",
            "Reading package lists... Done\n",
            "Building dependency tree       \n",
            "Reading state information... Done\n",
            "39 packages can be upgraded. Run 'apt list --upgradable' to see them.\n",
            "Reading package lists... Done\n",
            "Building dependency tree       \n",
            "Reading state information... Done\n",
            "chromium-chromedriver is already the newest version (94.0.4606.71-0ubuntu0.18.04.1).\n",
            "0 upgraded, 0 newly installed, 0 to remove and 39 not upgraded.\n",
            "Requirement already satisfied: selenium in /usr/local/lib/python3.7/dist-packages (3.141.0)\n",
            "Requirement already satisfied: urllib3 in /usr/local/lib/python3.7/dist-packages (from selenium) (1.24.3)\n"
          ]
        }
      ]
    },
    {
      "cell_type": "code",
      "metadata": {
        "id": "wx5fCIcIcfbM"
      },
      "source": [
        "from selenium.webdriver.common.keys import Keys\n",
        "from selenium.webdriver.common.by import By\n",
        "from selenium.webdriver.support.ui import WebDriverWait\n",
        "from selenium.webdriver.support import expected_conditions as EC\n",
        "from selenium.webdriver.support.select import Select\n",
        "import pandas as pd\n",
        "import time"
      ],
      "execution_count": 13,
      "outputs": []
    },
    {
      "cell_type": "code",
      "metadata": {
        "colab": {
          "base_uri": "https://localhost:8080/"
        },
        "id": "fNwIzoYSeWRe",
        "outputId": "5b22d3ab-df30-491e-9645-2dd8ff3c5c4e"
      },
      "source": [
        "df = pd.DataFrame(columns=['Name', \"Address\",\"Pincode\", \"State\", \"Contact No\" ]) # creates master dataframe \n",
        "\n",
        "driver.get(\"https://general.bajajallianz.com/BagicNxt/hm/hmSearchExternalHosp.do\")\n",
        "driver.implicitly_wait(10)\n",
        "\n",
        "\n",
        "state = driver.find_element(By.XPATH, '//*[@id=\"p_search_criteria.stringval1\"]')\n",
        "\n",
        "sdd = Select(state)\n",
        "sddlist = sdd.options\n",
        "print(len(sddlist))\n",
        "\n",
        "for i in range(2,39):\n",
        "    time.sleep(0.5)\n",
        "        \n",
        "    driver.find_element_by_xpath(f'//*[@id=\"p_search_criteria.stringval1\"]/option[{i}]').click()\n",
        "\n",
        "    driver.implicitly_wait(4)\n",
        "    time.sleep(1)\n",
        "    city = driver.find_element(By.XPATH, '//*[@id=\"p_search_criteria.stringval2\"]')\n",
        "    cdd = Select(city)\n",
        "    cddlist = cdd.options\n",
        "\n",
        "    cities_list = []\n",
        "    for ele in cddlist:\n",
        "        if ele.text == \"--Select a City--\":\n",
        "                continue\n",
        "        else:\n",
        "            cities_list.append(ele.text)\n",
        "\n",
        "    for i in range(len(cities_list)):\n",
        "            \n",
        "        driver.find_element_by_xpath(f'/html/body/form/div/div/div[2]/fieldset/p[2]/select/option[{i+2}]').click()\n",
        "        driver.implicitly_wait(2)\n",
        "        driver.find_element(By.XPATH, '//*[@id=\"search\"]').click()\n",
        "        driver.implicitly_wait(5)\n",
        "        time.sleep(0.6)\n",
        "        names = driver.find_elements_by_xpath('//*[@id=\"hospitalWindow\"]/a')\n",
        "        addresses = driver.find_elements_by_xpath('//*[@id=\"result\"]/td[3]')\n",
        "        pincodes = driver.find_elements_by_xpath('//*[@id=\"result\"]/td[5]')\n",
        "        states = driver.find_elements_by_xpath('//*[@id=\"result\"]/td[6]')\n",
        "        contacts = driver.find_elements_by_xpath('//*[@id=\"result\"]/td[8]/span')\n",
        "        \n",
        "        name_list = []\n",
        "        for n in range(len(names)):\n",
        "            name_list.append(names[n].text)\n",
        "        address_list = []\n",
        "        for n in range(len(addresses)):\n",
        "            address_list.append(addresses[n].text)\n",
        "        pincode_list = []\n",
        "        for n in range(len(pincodes)):\n",
        "            pincode_list.append(pincodes[n].text)\n",
        "        state_list = []\n",
        "        for n in range(len(states)):\n",
        "            state_list.append(states[n].text)\n",
        "        contact_list = []\n",
        "        for n in range(len(contacts)):\n",
        "            contact_list.append(contacts[n].text)\n",
        "\n",
        "        data_tuples = list(zip(name_list,address_list,pincode_list,state_list,contact_list ))\n",
        "        temp_df = pd.DataFrame(data_tuples, columns=['Name','Address', \"Pincode\", \"State\", \"Contact No\"])\n",
        "        df = df.append(temp_df)\n"
      ],
      "execution_count": 14,
      "outputs": [
        {
          "output_type": "stream",
          "name": "stdout",
          "text": [
            "38\n"
          ]
        }
      ]
    },
    {
      "cell_type": "markdown",
      "metadata": {
        "id": "MPKwvO_sxwWg"
      },
      "source": [
        "Now we have stored the information about hospitals in the df dataframe. Now we will see how it looks like"
      ]
    },
    {
      "cell_type": "code",
      "metadata": {
        "colab": {
          "base_uri": "https://localhost:8080/",
          "height": 357
        },
        "id": "2SpHtNbJxc0h",
        "outputId": "da795dd2-6102-41dc-da69-27f8b21ab1b6"
      },
      "source": [
        "df.head(10)"
      ],
      "execution_count": 18,
      "outputs": [
        {
          "output_type": "execute_result",
          "data": {
            "text/html": [
              "<div>\n",
              "<style scoped>\n",
              "    .dataframe tbody tr th:only-of-type {\n",
              "        vertical-align: middle;\n",
              "    }\n",
              "\n",
              "    .dataframe tbody tr th {\n",
              "        vertical-align: top;\n",
              "    }\n",
              "\n",
              "    .dataframe thead th {\n",
              "        text-align: right;\n",
              "    }\n",
              "</style>\n",
              "<table border=\"1\" class=\"dataframe\">\n",
              "  <thead>\n",
              "    <tr style=\"text-align: right;\">\n",
              "      <th></th>\n",
              "      <th>Name</th>\n",
              "      <th>Address</th>\n",
              "      <th>Pincode</th>\n",
              "      <th>State</th>\n",
              "      <th>Contact No</th>\n",
              "    </tr>\n",
              "  </thead>\n",
              "  <tbody>\n",
              "    <tr>\n",
              "      <th>0</th>\n",
              "      <td>DR.AGARWAL'S EYE HOSPITAL LTD - PORT BLAIR</td>\n",
              "      <td>NO.32/4. NEAR RADHA GOVIND TEMPLE,RGT ROAD,</td>\n",
              "      <td>744101</td>\n",
              "      <td>ANDAMAN AND NICOBAR</td>\n",
              "      <td>[3192]244222</td>\n",
              "    </tr>\n",
              "    <tr>\n",
              "      <th>1</th>\n",
              "      <td>DEVENDAR REDDY SUPER SPECIALITY HOSPITAL - NIRMAL</td>\n",
              "      <td>H.No.1-3-14/16, Shastry Nagar, Mancherial Road...</td>\n",
              "      <td>504106</td>\n",
              "      <td>ANDAMAN AND NICOBAR</td>\n",
              "      <td>[8734]242999</td>\n",
              "    </tr>\n",
              "    <tr>\n",
              "      <th>0</th>\n",
              "      <td>DR.AGARWAL'S EYE HOSPITAL LTD - PORT BLAIR</td>\n",
              "      <td>NO.32/4. NEAR RADHA GOVIND TEMPLE,RGT ROAD,</td>\n",
              "      <td>744101</td>\n",
              "      <td>ANDAMAN AND NICOBAR</td>\n",
              "      <td>[3192]244222</td>\n",
              "    </tr>\n",
              "    <tr>\n",
              "      <th>1</th>\n",
              "      <td>DEVENDAR REDDY SUPER SPECIALITY HOSPITAL - NIRMAL</td>\n",
              "      <td>H.No.1-3-14/16, Shastry Nagar, Mancherial Road...</td>\n",
              "      <td>504106</td>\n",
              "      <td>ANDAMAN AND NICOBAR</td>\n",
              "      <td>[8734]242999</td>\n",
              "    </tr>\n",
              "    <tr>\n",
              "      <th>0</th>\n",
              "      <td>SREE AMARAVATHI MULTI SPECIALITY HOSPITAL - AD...</td>\n",
              "      <td>11-1-234, 3rd Cross, Aravind Nagar, Ananthapuram</td>\n",
              "      <td>515001</td>\n",
              "      <td>ANDHRA PRADESH</td>\n",
              "      <td>[8554]231567</td>\n",
              "    </tr>\n",
              "    <tr>\n",
              "      <th>0</th>\n",
              "      <td>SRI SAI KRUPA NURSING HOME - Ananthapur</td>\n",
              "      <td>10 - 368 Sarojini Road</td>\n",
              "      <td>515001</td>\n",
              "      <td>ANDHRA PRADESH</td>\n",
              "      <td>[08554]274564</td>\n",
              "    </tr>\n",
              "    <tr>\n",
              "      <th>1</th>\n",
              "      <td>LMR MULTI SPECIALITY HOSPITAL - ANANTHAPUR</td>\n",
              "      <td>#13-3-187, sreenivas nagar,behind rtc bus stan...</td>\n",
              "      <td>515001</td>\n",
              "      <td>ANDHRA PRADESH</td>\n",
              "      <td>[8554]221048</td>\n",
              "    </tr>\n",
              "    <tr>\n",
              "      <th>2</th>\n",
              "      <td>SREENIVASA CHILDRENS HOSPITAL - ANANTHAPUR</td>\n",
              "      <td>#13/03/488, Near Gowri cine complex, Sreekanta...</td>\n",
              "      <td>515001</td>\n",
              "      <td>ANDHRA PRADESH</td>\n",
              "      <td>[8554]241104</td>\n",
              "    </tr>\n",
              "    <tr>\n",
              "      <th>3</th>\n",
              "      <td>AASHA HOSPITAL - Ananthapur</td>\n",
              "      <td>7 - 201, Court Road</td>\n",
              "      <td>515001</td>\n",
              "      <td>ANDHRA PRADESH</td>\n",
              "      <td>[08554]274194 / 237818</td>\n",
              "    </tr>\n",
              "    <tr>\n",
              "      <th>4</th>\n",
              "      <td>Saveera Insititute of Medical Sciences Pvt Ltd...</td>\n",
              "      <td>#1-1348,SRI NAGAAR COLONY EXTENSION,ANANTAPUR-...</td>\n",
              "      <td>515004</td>\n",
              "      <td>ANDHRA PRADESH</td>\n",
              "      <td>[08554]234234</td>\n",
              "    </tr>\n",
              "  </tbody>\n",
              "</table>\n",
              "</div>"
            ],
            "text/plain": [
              "                                                Name  ...               Contact No\n",
              "0         DR.AGARWAL'S EYE HOSPITAL LTD - PORT BLAIR  ...             [3192]244222\n",
              "1  DEVENDAR REDDY SUPER SPECIALITY HOSPITAL - NIRMAL  ...             [8734]242999\n",
              "0         DR.AGARWAL'S EYE HOSPITAL LTD - PORT BLAIR  ...             [3192]244222\n",
              "1  DEVENDAR REDDY SUPER SPECIALITY HOSPITAL - NIRMAL  ...             [8734]242999\n",
              "0  SREE AMARAVATHI MULTI SPECIALITY HOSPITAL - AD...  ...             [8554]231567\n",
              "0            SRI SAI KRUPA NURSING HOME - Ananthapur  ...            [08554]274564\n",
              "1         LMR MULTI SPECIALITY HOSPITAL - ANANTHAPUR  ...             [8554]221048\n",
              "2         SREENIVASA CHILDRENS HOSPITAL - ANANTHAPUR  ...             [8554]241104\n",
              "3                        AASHA HOSPITAL - Ananthapur  ...   [08554]274194 / 237818\n",
              "4  Saveera Insititute of Medical Sciences Pvt Ltd...  ...            [08554]234234\n",
              "\n",
              "[10 rows x 5 columns]"
            ]
          },
          "metadata": {},
          "execution_count": 18
        }
      ]
    },
    {
      "cell_type": "markdown",
      "metadata": {
        "id": "WebwwD4iyH8I"
      },
      "source": [
        "Here, Data frame has five columns:   \n",
        " \n",
        "1.   **Name** - Name of the hospital.\n",
        "2.   **Address** - Address of the hospital. \n",
        "3. **Pincode** - Pincode of the hospital. \n",
        "4. **State** - State in which Hospital is located. \n",
        "5. **Contact No** - Contact Number of the hospital. \n",
        "\n"
      ]
    },
    {
      "cell_type": "code",
      "metadata": {
        "colab": {
          "base_uri": "https://localhost:8080/"
        },
        "id": "fRmp1e8B0zEl",
        "outputId": "6a00c3ce-4033-4974-fac1-d6a429f77aa1"
      },
      "source": [
        "print(df.shape)"
      ],
      "execution_count": 22,
      "outputs": [
        {
          "output_type": "stream",
          "name": "stdout",
          "text": [
            "(2618, 5)\n"
          ]
        }
      ]
    },
    {
      "cell_type": "code",
      "metadata": {
        "colab": {
          "base_uri": "https://localhost:8080/"
        },
        "id": "89GTgXQQhlH0",
        "outputId": "cdab1f08-3bdc-400e-90ba-042edd75e1f4"
      },
      "source": [
        "df.isnull().sum()"
      ],
      "execution_count": 19,
      "outputs": [
        {
          "output_type": "execute_result",
          "data": {
            "text/plain": [
              "Name          0\n",
              "Address       0\n",
              "Pincode       0\n",
              "State         0\n",
              "Contact No    0\n",
              "dtype: int64"
            ]
          },
          "metadata": {},
          "execution_count": 19
        }
      ]
    },
    {
      "cell_type": "markdown",
      "metadata": {
        "id": "TfboIfQjy3xa"
      },
      "source": [
        "It shows that our dataframe does not contain any Null Values."
      ]
    },
    {
      "cell_type": "markdown",
      "metadata": {
        "id": "YRaPqgPOy_4V"
      },
      "source": [
        "Now we will store the data in a CSV File.\n",
        "\n"
      ]
    },
    {
      "cell_type": "code",
      "metadata": {
        "id": "-U3pr7UZy2LE"
      },
      "source": [
        "df.to_csv(\"cashless_BajajAllianz.csv\", index=False)"
      ],
      "execution_count": 20,
      "outputs": []
    },
    {
      "cell_type": "code",
      "metadata": {
        "id": "63-p1iHRzv-g"
      },
      "source": [
        ""
      ],
      "execution_count": null,
      "outputs": []
    }
  ]
}